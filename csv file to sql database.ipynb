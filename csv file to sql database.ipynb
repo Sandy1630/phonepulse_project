{
 "cells": [
  {
   "cell_type": "code",
   "execution_count": 2,
   "id": "70d4dadc",
   "metadata": {},
   "outputs": [],
   "source": [
    "import mysql.connector"
   ]
  },
  {
   "cell_type": "code",
   "execution_count": 3,
   "id": "01416432",
   "metadata": {},
   "outputs": [],
   "source": [
    "phone_pe=mysql.connector.connect(\n",
    "        host=\"127.0.0.1\",\n",
    "        user=\"root\",\n",
    "        password='Sandy@1630',\n",
    "        auth_plugin=\"mysql_native_password\")"
   ]
  },
  {
   "cell_type": "code",
   "execution_count": 1,
   "id": "c9115ee4",
   "metadata": {},
   "outputs": [],
   "source": [
    "import pandas as pd\n",
    "df=pd.read_csv(\"data aggregated transaction.csv\")\n",
    "#df"
   ]
  },
  {
   "cell_type": "code",
   "execution_count": 5,
   "id": "2a40578f",
   "metadata": {
    "scrolled": true
   },
   "outputs": [
    {
     "name": "stdout",
     "output_type": "stream",
     "text": [
      "Table created successfully\n"
     ]
    }
   ],
   "source": [
    "mycursor=phone_pe.cursor()\n",
    "mycursor.execute(\"USE phonepe\")\n",
    "sq1=\"CREATE TABLE ATransaction(MyIndex int NOT NULL AUTO_INCREMENT ,State varchar(50),Year int,Quater int,Transaction_type varchar(255),Transaction_count bigint,Transaction_amount bigint,PRIMARY KEY(MyIndex))\"\n",
    "mycursor.execute(sq1)\n",
    "print('Table created successfully')"
   ]
  },
  {
   "cell_type": "code",
   "execution_count": 7,
   "id": "876d02ef",
   "metadata": {},
   "outputs": [
    {
     "name": "stdout",
     "output_type": "stream",
     "text": [
      "dataframe inserted successfully\n"
     ]
    }
   ],
   "source": [
    "for index,row in df.iterrows():\n",
    "    quer=\"INSERT INTO phonepe.ATransaction(State,Year,Quater,Transaction_type,Transaction_count,Transaction_amount)values(%s,%s,%s,%s,%s,%s)\"\n",
    "    mycursor.execute(quer,(row.State,row.Year,row.Quater,row.transaction_type ,row.Transaction_count,row.transaction_amount))\n",
    "print(\"dataframe inserted successfully\")\n",
    "phone_pe.commit()\n",
    "\n",
    "    \n"
   ]
  },
  {
   "cell_type": "code",
   "execution_count": 4,
   "id": "aa005bde",
   "metadata": {},
   "outputs": [],
   "source": [
    "mycursor=phone_pe.cursor()"
   ]
  },
  {
   "cell_type": "code",
   "execution_count": 16,
   "id": "5c256303",
   "metadata": {},
   "outputs": [],
   "source": [
    "import pandas as pd\n",
    "df1=pd.read_csv('data aggregater_user1.csv')"
   ]
  },
  {
   "cell_type": "code",
   "execution_count": 7,
   "id": "edfabde6",
   "metadata": {},
   "outputs": [
    {
     "name": "stdout",
     "output_type": "stream",
     "text": [
      "TABLE CREATED SUCCESSFULLY\n"
     ]
    }
   ],
   "source": [
    "mycursor=phone_pe.cursor()\n",
    "mycursor.execute('USE phonepe')\n",
    "sq2='CREATE TABLE Ausers_1(MyIndex int NOT NULL AUTO_INCREMENT,State varchar(255),Year int,Quater int,Brand varchar(100),Count int,Percentage float,PRIMARY KEY (MyIndex))'\n",
    "mycursor.execute(sq2)\n",
    "print(\"TABLE CREATED SUCCESSFULLY\")"
   ]
  },
  {
   "cell_type": "code",
   "execution_count": 18,
   "id": "5a3af802",
   "metadata": {},
   "outputs": [
    {
     "name": "stdout",
     "output_type": "stream",
     "text": [
      "dataframe inserted successfully\n"
     ]
    }
   ],
   "source": [
    "for index,row in df1.iterrows():\n",
    "    query=\"INSERT INTO phonepe.Ausers_1(State,Year,Quater,Brand,Count,Percentage) VALUES(%s,%s,%s,%s,%s,%s)\"\n",
    "    mycursor.execute(query,(row.State,row.Year,row.Quater,row.Brand,row.Count_,row.Percentage_))\n",
    "print(\"dataframe inserted successfully\")\n",
    "phone_pe.commit()"
   ]
  },
  {
   "cell_type": "code",
   "execution_count": 2,
   "id": "eb067cce",
   "metadata": {},
   "outputs": [
    {
     "ename": "FileNotFoundError",
     "evalue": "[Errno 2] No such file or directory: 'data map_transaction.csv'",
     "output_type": "error",
     "traceback": [
      "\u001b[1;31m---------------------------------------------------------------------------\u001b[0m",
      "\u001b[1;31mFileNotFoundError\u001b[0m                         Traceback (most recent call last)",
      "\u001b[1;32m~\\AppData\\Local\\Temp\\ipykernel_1436\\932280707.py\u001b[0m in \u001b[0;36m<module>\u001b[1;34m\u001b[0m\n\u001b[1;32m----> 1\u001b[1;33m \u001b[0mdf2\u001b[0m\u001b[1;33m=\u001b[0m\u001b[0mpd\u001b[0m\u001b[1;33m.\u001b[0m\u001b[0mread_csv\u001b[0m\u001b[1;33m(\u001b[0m\u001b[1;34m'data map_transaction.csv'\u001b[0m\u001b[1;33m)\u001b[0m\u001b[1;33m\u001b[0m\u001b[1;33m\u001b[0m\u001b[0m\n\u001b[0m\u001b[0;32m      2\u001b[0m \u001b[1;31m#df2\u001b[0m\u001b[1;33m\u001b[0m\u001b[1;33m\u001b[0m\u001b[0m\n",
      "\u001b[1;32m~\\anaconda3\\lib\\site-packages\\pandas\\util\\_decorators.py\u001b[0m in \u001b[0;36mwrapper\u001b[1;34m(*args, **kwargs)\u001b[0m\n\u001b[0;32m    309\u001b[0m                     \u001b[0mstacklevel\u001b[0m\u001b[1;33m=\u001b[0m\u001b[0mstacklevel\u001b[0m\u001b[1;33m,\u001b[0m\u001b[1;33m\u001b[0m\u001b[1;33m\u001b[0m\u001b[0m\n\u001b[0;32m    310\u001b[0m                 )\n\u001b[1;32m--> 311\u001b[1;33m             \u001b[1;32mreturn\u001b[0m \u001b[0mfunc\u001b[0m\u001b[1;33m(\u001b[0m\u001b[1;33m*\u001b[0m\u001b[0margs\u001b[0m\u001b[1;33m,\u001b[0m \u001b[1;33m**\u001b[0m\u001b[0mkwargs\u001b[0m\u001b[1;33m)\u001b[0m\u001b[1;33m\u001b[0m\u001b[1;33m\u001b[0m\u001b[0m\n\u001b[0m\u001b[0;32m    312\u001b[0m \u001b[1;33m\u001b[0m\u001b[0m\n\u001b[0;32m    313\u001b[0m         \u001b[1;32mreturn\u001b[0m \u001b[0mwrapper\u001b[0m\u001b[1;33m\u001b[0m\u001b[1;33m\u001b[0m\u001b[0m\n",
      "\u001b[1;32m~\\anaconda3\\lib\\site-packages\\pandas\\io\\parsers\\readers.py\u001b[0m in \u001b[0;36mread_csv\u001b[1;34m(filepath_or_buffer, sep, delimiter, header, names, index_col, usecols, squeeze, prefix, mangle_dupe_cols, dtype, engine, converters, true_values, false_values, skipinitialspace, skiprows, skipfooter, nrows, na_values, keep_default_na, na_filter, verbose, skip_blank_lines, parse_dates, infer_datetime_format, keep_date_col, date_parser, dayfirst, cache_dates, iterator, chunksize, compression, thousands, decimal, lineterminator, quotechar, quoting, doublequote, escapechar, comment, encoding, encoding_errors, dialect, error_bad_lines, warn_bad_lines, on_bad_lines, delim_whitespace, low_memory, memory_map, float_precision, storage_options)\u001b[0m\n\u001b[0;32m    676\u001b[0m     \u001b[0mkwds\u001b[0m\u001b[1;33m.\u001b[0m\u001b[0mupdate\u001b[0m\u001b[1;33m(\u001b[0m\u001b[0mkwds_defaults\u001b[0m\u001b[1;33m)\u001b[0m\u001b[1;33m\u001b[0m\u001b[1;33m\u001b[0m\u001b[0m\n\u001b[0;32m    677\u001b[0m \u001b[1;33m\u001b[0m\u001b[0m\n\u001b[1;32m--> 678\u001b[1;33m     \u001b[1;32mreturn\u001b[0m \u001b[0m_read\u001b[0m\u001b[1;33m(\u001b[0m\u001b[0mfilepath_or_buffer\u001b[0m\u001b[1;33m,\u001b[0m \u001b[0mkwds\u001b[0m\u001b[1;33m)\u001b[0m\u001b[1;33m\u001b[0m\u001b[1;33m\u001b[0m\u001b[0m\n\u001b[0m\u001b[0;32m    679\u001b[0m \u001b[1;33m\u001b[0m\u001b[0m\n\u001b[0;32m    680\u001b[0m \u001b[1;33m\u001b[0m\u001b[0m\n",
      "\u001b[1;32m~\\anaconda3\\lib\\site-packages\\pandas\\io\\parsers\\readers.py\u001b[0m in \u001b[0;36m_read\u001b[1;34m(filepath_or_buffer, kwds)\u001b[0m\n\u001b[0;32m    573\u001b[0m \u001b[1;33m\u001b[0m\u001b[0m\n\u001b[0;32m    574\u001b[0m     \u001b[1;31m# Create the parser.\u001b[0m\u001b[1;33m\u001b[0m\u001b[1;33m\u001b[0m\u001b[0m\n\u001b[1;32m--> 575\u001b[1;33m     \u001b[0mparser\u001b[0m \u001b[1;33m=\u001b[0m \u001b[0mTextFileReader\u001b[0m\u001b[1;33m(\u001b[0m\u001b[0mfilepath_or_buffer\u001b[0m\u001b[1;33m,\u001b[0m \u001b[1;33m**\u001b[0m\u001b[0mkwds\u001b[0m\u001b[1;33m)\u001b[0m\u001b[1;33m\u001b[0m\u001b[1;33m\u001b[0m\u001b[0m\n\u001b[0m\u001b[0;32m    576\u001b[0m \u001b[1;33m\u001b[0m\u001b[0m\n\u001b[0;32m    577\u001b[0m     \u001b[1;32mif\u001b[0m \u001b[0mchunksize\u001b[0m \u001b[1;32mor\u001b[0m \u001b[0miterator\u001b[0m\u001b[1;33m:\u001b[0m\u001b[1;33m\u001b[0m\u001b[1;33m\u001b[0m\u001b[0m\n",
      "\u001b[1;32m~\\anaconda3\\lib\\site-packages\\pandas\\io\\parsers\\readers.py\u001b[0m in \u001b[0;36m__init__\u001b[1;34m(self, f, engine, **kwds)\u001b[0m\n\u001b[0;32m    930\u001b[0m \u001b[1;33m\u001b[0m\u001b[0m\n\u001b[0;32m    931\u001b[0m         \u001b[0mself\u001b[0m\u001b[1;33m.\u001b[0m\u001b[0mhandles\u001b[0m\u001b[1;33m:\u001b[0m \u001b[0mIOHandles\u001b[0m \u001b[1;33m|\u001b[0m \u001b[1;32mNone\u001b[0m \u001b[1;33m=\u001b[0m \u001b[1;32mNone\u001b[0m\u001b[1;33m\u001b[0m\u001b[1;33m\u001b[0m\u001b[0m\n\u001b[1;32m--> 932\u001b[1;33m         \u001b[0mself\u001b[0m\u001b[1;33m.\u001b[0m\u001b[0m_engine\u001b[0m \u001b[1;33m=\u001b[0m \u001b[0mself\u001b[0m\u001b[1;33m.\u001b[0m\u001b[0m_make_engine\u001b[0m\u001b[1;33m(\u001b[0m\u001b[0mf\u001b[0m\u001b[1;33m,\u001b[0m \u001b[0mself\u001b[0m\u001b[1;33m.\u001b[0m\u001b[0mengine\u001b[0m\u001b[1;33m)\u001b[0m\u001b[1;33m\u001b[0m\u001b[1;33m\u001b[0m\u001b[0m\n\u001b[0m\u001b[0;32m    933\u001b[0m \u001b[1;33m\u001b[0m\u001b[0m\n\u001b[0;32m    934\u001b[0m     \u001b[1;32mdef\u001b[0m \u001b[0mclose\u001b[0m\u001b[1;33m(\u001b[0m\u001b[0mself\u001b[0m\u001b[1;33m)\u001b[0m\u001b[1;33m:\u001b[0m\u001b[1;33m\u001b[0m\u001b[1;33m\u001b[0m\u001b[0m\n",
      "\u001b[1;32m~\\anaconda3\\lib\\site-packages\\pandas\\io\\parsers\\readers.py\u001b[0m in \u001b[0;36m_make_engine\u001b[1;34m(self, f, engine)\u001b[0m\n\u001b[0;32m   1214\u001b[0m             \u001b[1;31m# \"Union[str, PathLike[str], ReadCsvBuffer[bytes], ReadCsvBuffer[str]]\"\u001b[0m\u001b[1;33m\u001b[0m\u001b[1;33m\u001b[0m\u001b[0m\n\u001b[0;32m   1215\u001b[0m             \u001b[1;31m# , \"str\", \"bool\", \"Any\", \"Any\", \"Any\", \"Any\", \"Any\"\u001b[0m\u001b[1;33m\u001b[0m\u001b[1;33m\u001b[0m\u001b[0m\n\u001b[1;32m-> 1216\u001b[1;33m             self.handles = get_handle(  # type: ignore[call-overload]\n\u001b[0m\u001b[0;32m   1217\u001b[0m                 \u001b[0mf\u001b[0m\u001b[1;33m,\u001b[0m\u001b[1;33m\u001b[0m\u001b[1;33m\u001b[0m\u001b[0m\n\u001b[0;32m   1218\u001b[0m                 \u001b[0mmode\u001b[0m\u001b[1;33m,\u001b[0m\u001b[1;33m\u001b[0m\u001b[1;33m\u001b[0m\u001b[0m\n",
      "\u001b[1;32m~\\anaconda3\\lib\\site-packages\\pandas\\io\\common.py\u001b[0m in \u001b[0;36mget_handle\u001b[1;34m(path_or_buf, mode, encoding, compression, memory_map, is_text, errors, storage_options)\u001b[0m\n\u001b[0;32m    784\u001b[0m         \u001b[1;32mif\u001b[0m \u001b[0mioargs\u001b[0m\u001b[1;33m.\u001b[0m\u001b[0mencoding\u001b[0m \u001b[1;32mand\u001b[0m \u001b[1;34m\"b\"\u001b[0m \u001b[1;32mnot\u001b[0m \u001b[1;32min\u001b[0m \u001b[0mioargs\u001b[0m\u001b[1;33m.\u001b[0m\u001b[0mmode\u001b[0m\u001b[1;33m:\u001b[0m\u001b[1;33m\u001b[0m\u001b[1;33m\u001b[0m\u001b[0m\n\u001b[0;32m    785\u001b[0m             \u001b[1;31m# Encoding\u001b[0m\u001b[1;33m\u001b[0m\u001b[1;33m\u001b[0m\u001b[0m\n\u001b[1;32m--> 786\u001b[1;33m             handle = open(\n\u001b[0m\u001b[0;32m    787\u001b[0m                 \u001b[0mhandle\u001b[0m\u001b[1;33m,\u001b[0m\u001b[1;33m\u001b[0m\u001b[1;33m\u001b[0m\u001b[0m\n\u001b[0;32m    788\u001b[0m                 \u001b[0mioargs\u001b[0m\u001b[1;33m.\u001b[0m\u001b[0mmode\u001b[0m\u001b[1;33m,\u001b[0m\u001b[1;33m\u001b[0m\u001b[1;33m\u001b[0m\u001b[0m\n",
      "\u001b[1;31mFileNotFoundError\u001b[0m: [Errno 2] No such file or directory: 'data map_transaction.csv'"
     ]
    }
   ],
   "source": [
    "df2=pd.read_csv('data map_transaction.csv')\n",
    "#df2"
   ]
  },
  {
   "cell_type": "code",
   "execution_count": 35,
   "id": "96b412e3",
   "metadata": {},
   "outputs": [
    {
     "name": "stdout",
     "output_type": "stream",
     "text": [
      "table created\n"
     ]
    }
   ],
   "source": [
    "sq3=\"CREATE TABLE Map_transaction(MyIndex int NOT NULL AUTO_INCREMENT,State varchar(100),Year int,Quater int,District varchar(255),Count bigint,Amount bigint,PRIMARY KEY(MyIndex))\"\n",
    "mycursor.execute(sq3)\n",
    "print(\"table created\")"
   ]
  },
  {
   "cell_type": "code",
   "execution_count": 36,
   "id": "c57065cb",
   "metadata": {},
   "outputs": [],
   "source": [
    "for index,row in df2.iterrows():\n",
    "    query=\"INSERT INTO phonepe.Map_transaction(State,Year,Quater,District,Count,Amount) values(%s,%s,%s,%s,%s,%s)\"\n",
    "    mycursor.execute(query,(row.State,row.Year,row.Quater,row.district,row.Count,row.Amount))"
   ]
  },
  {
   "cell_type": "code",
   "execution_count": 37,
   "id": "a6b9041f",
   "metadata": {},
   "outputs": [],
   "source": [
    "phone_pe.commit()"
   ]
  },
  {
   "cell_type": "code",
   "execution_count": null,
   "id": "ffdb3b7b",
   "metadata": {},
   "outputs": [],
   "source": []
  },
  {
   "cell_type": "code",
   "execution_count": 5,
   "id": "8eebf58d",
   "metadata": {},
   "outputs": [],
   "source": [
    "#df3=pd.read_csv(\"df_map_user.csv\")"
   ]
  },
  {
   "cell_type": "code",
   "execution_count": 12,
   "id": "540589af",
   "metadata": {},
   "outputs": [],
   "source": [
    "sq3=\"CREATE TABLE if not exists MAP_users(MyIndex INT NOT NULL AUTO_INCREMENT,State VARCHAR(100),Year INT, Quater INT, District VARCHAR(100),RegisteredUsers BIGINT , PRIMARY KEY (MyIndex))\"\n",
    "mycursor.execute(sq3)"
   ]
  },
  {
   "cell_type": "code",
   "execution_count": 8,
   "id": "f6df5b14",
   "metadata": {},
   "outputs": [],
   "source": [
    "for index,row in df3.iterrows():\n",
    "    query=\"INSERT INTO phonepe.MAP_users(State,Year,Quater,District,RegisteredUsers) values(%s,%s,%s,%s,%s)\"\n",
    "    mycursor.execute(query,(row.State,row.Year,row.Quater,row.District,row.RegisteredUsers))\n",
    "phone_pe.commit()"
   ]
  },
  {
   "cell_type": "code",
   "execution_count": null,
   "id": "e3911061",
   "metadata": {},
   "outputs": [],
   "source": []
  },
  {
   "cell_type": "code",
   "execution_count": 6,
   "id": "fd373cc1",
   "metadata": {},
   "outputs": [],
   "source": [
    "#import pandas as pd\n",
    "#df=pd.read_csv('data Top_transaction1.csv')\n",
    "#df"
   ]
  },
  {
   "cell_type": "code",
   "execution_count": 42,
   "id": "3280ae0c",
   "metadata": {},
   "outputs": [
    {
     "data": {
      "text/plain": [
       "Unnamed: 0            0\n",
       "State                 0\n",
       "Year                  0\n",
       "Quater                0\n",
       "District              4\n",
       "Transaction_count     0\n",
       "Transaction_amount    0\n",
       "dtype: int64"
      ]
     },
     "execution_count": 42,
     "metadata": {},
     "output_type": "execute_result"
    }
   ],
   "source": [
    "df.isnull().sum()"
   ]
  },
  {
   "cell_type": "code",
   "execution_count": 12,
   "id": "b057e665",
   "metadata": {},
   "outputs": [
    {
     "name": "stdout",
     "output_type": "stream",
     "text": [
      "table created successfully\n"
     ]
    }
   ],
   "source": [
    "mycursor.execute(\"USE phonepe\")\n",
    "mycursor.execute(\"CREATE TABLE Top_transaction1(MyIndex int NOT NULL AUTO_INCREMENT,State varchar(255),Year int,Quater int,District bigint,Transaction_count bigint,Transaction_amount bigint,PRIMARY KEY(MyIndex))\")\n",
    "print(\"table created successfully\")"
   ]
  },
  {
   "cell_type": "code",
   "execution_count": 8,
   "id": "f838d482",
   "metadata": {},
   "outputs": [
    {
     "name": "stdout",
     "output_type": "stream",
     "text": [
      "inserted successfully\n"
     ]
    }
   ],
   "source": [
    "for index,row in df.iterrows():\n",
    "    quer=\"INSERT INTO phonepe.Top_transaction1(State,Year,Quater,District,Transaction_count,Transaction_amount) values(%s,%s,%s,%s,%s,%s)\"\n",
    "    mycursor.execute(quer,(row.State,row.Year,row.Quater,row.District,row.Transaction_count,row.Transaction_amount))\n",
    "print(\"inserted successfully\")\n",
    "phone_pe.commit()"
   ]
  },
  {
   "cell_type": "code",
   "execution_count": 10,
   "id": "9ac670f8",
   "metadata": {},
   "outputs": [
    {
     "data": {
      "text/html": [
       "<div>\n",
       "<style scoped>\n",
       "    .dataframe tbody tr th:only-of-type {\n",
       "        vertical-align: middle;\n",
       "    }\n",
       "\n",
       "    .dataframe tbody tr th {\n",
       "        vertical-align: top;\n",
       "    }\n",
       "\n",
       "    .dataframe thead th {\n",
       "        text-align: right;\n",
       "    }\n",
       "</style>\n",
       "<table border=\"1\" class=\"dataframe\">\n",
       "  <thead>\n",
       "    <tr style=\"text-align: right;\">\n",
       "      <th></th>\n",
       "      <th>Unnamed: 0</th>\n",
       "      <th>State</th>\n",
       "      <th>Year</th>\n",
       "      <th>Quater</th>\n",
       "      <th>District</th>\n",
       "      <th>RegisteredUsers</th>\n",
       "    </tr>\n",
       "  </thead>\n",
       "  <tbody>\n",
       "    <tr>\n",
       "      <th>0</th>\n",
       "      <td>0</td>\n",
       "      <td>andaman-&amp;-nicobar-islands</td>\n",
       "      <td>2018</td>\n",
       "      <td>1</td>\n",
       "      <td>744103</td>\n",
       "      <td>1608</td>\n",
       "    </tr>\n",
       "    <tr>\n",
       "      <th>1</th>\n",
       "      <td>1</td>\n",
       "      <td>andaman-&amp;-nicobar-islands</td>\n",
       "      <td>2018</td>\n",
       "      <td>1</td>\n",
       "      <td>744101</td>\n",
       "      <td>1108</td>\n",
       "    </tr>\n",
       "    <tr>\n",
       "      <th>2</th>\n",
       "      <td>2</td>\n",
       "      <td>andaman-&amp;-nicobar-islands</td>\n",
       "      <td>2018</td>\n",
       "      <td>1</td>\n",
       "      <td>744105</td>\n",
       "      <td>1075</td>\n",
       "    </tr>\n",
       "    <tr>\n",
       "      <th>3</th>\n",
       "      <td>3</td>\n",
       "      <td>andaman-&amp;-nicobar-islands</td>\n",
       "      <td>2018</td>\n",
       "      <td>1</td>\n",
       "      <td>744102</td>\n",
       "      <td>1006</td>\n",
       "    </tr>\n",
       "    <tr>\n",
       "      <th>4</th>\n",
       "      <td>4</td>\n",
       "      <td>andaman-&amp;-nicobar-islands</td>\n",
       "      <td>2018</td>\n",
       "      <td>1</td>\n",
       "      <td>744104</td>\n",
       "      <td>272</td>\n",
       "    </tr>\n",
       "    <tr>\n",
       "      <th>...</th>\n",
       "      <td>...</td>\n",
       "      <td>...</td>\n",
       "      <td>...</td>\n",
       "      <td>...</td>\n",
       "      <td>...</td>\n",
       "      <td>...</td>\n",
       "    </tr>\n",
       "    <tr>\n",
       "      <th>28555</th>\n",
       "      <td>28555</td>\n",
       "      <td>west-bengal</td>\n",
       "      <td>2022</td>\n",
       "      <td>4</td>\n",
       "      <td>700015</td>\n",
       "      <td>108457</td>\n",
       "    </tr>\n",
       "    <tr>\n",
       "      <th>28556</th>\n",
       "      <td>28556</td>\n",
       "      <td>west-bengal</td>\n",
       "      <td>2022</td>\n",
       "      <td>4</td>\n",
       "      <td>742304</td>\n",
       "      <td>105471</td>\n",
       "    </tr>\n",
       "    <tr>\n",
       "      <th>28557</th>\n",
       "      <td>28557</td>\n",
       "      <td>west-bengal</td>\n",
       "      <td>2022</td>\n",
       "      <td>4</td>\n",
       "      <td>721101</td>\n",
       "      <td>105279</td>\n",
       "    </tr>\n",
       "    <tr>\n",
       "      <th>28558</th>\n",
       "      <td>28558</td>\n",
       "      <td>west-bengal</td>\n",
       "      <td>2022</td>\n",
       "      <td>4</td>\n",
       "      <td>700091</td>\n",
       "      <td>102363</td>\n",
       "    </tr>\n",
       "    <tr>\n",
       "      <th>28559</th>\n",
       "      <td>28559</td>\n",
       "      <td>west-bengal</td>\n",
       "      <td>2022</td>\n",
       "      <td>4</td>\n",
       "      <td>700150</td>\n",
       "      <td>101966</td>\n",
       "    </tr>\n",
       "  </tbody>\n",
       "</table>\n",
       "<p>28560 rows × 6 columns</p>\n",
       "</div>"
      ],
      "text/plain": [
       "       Unnamed: 0                      State  Year  Quater  District  \\\n",
       "0               0  andaman-&-nicobar-islands  2018       1    744103   \n",
       "1               1  andaman-&-nicobar-islands  2018       1    744101   \n",
       "2               2  andaman-&-nicobar-islands  2018       1    744105   \n",
       "3               3  andaman-&-nicobar-islands  2018       1    744102   \n",
       "4               4  andaman-&-nicobar-islands  2018       1    744104   \n",
       "...           ...                        ...   ...     ...       ...   \n",
       "28555       28555                west-bengal  2022       4    700015   \n",
       "28556       28556                west-bengal  2022       4    742304   \n",
       "28557       28557                west-bengal  2022       4    721101   \n",
       "28558       28558                west-bengal  2022       4    700091   \n",
       "28559       28559                west-bengal  2022       4    700150   \n",
       "\n",
       "       RegisteredUsers  \n",
       "0                 1608  \n",
       "1                 1108  \n",
       "2                 1075  \n",
       "3                 1006  \n",
       "4                  272  \n",
       "...                ...  \n",
       "28555           108457  \n",
       "28556           105471  \n",
       "28557           105279  \n",
       "28558           102363  \n",
       "28559           101966  \n",
       "\n",
       "[28560 rows x 6 columns]"
      ]
     },
     "execution_count": 10,
     "metadata": {},
     "output_type": "execute_result"
    }
   ],
   "source": [
    "df=pd.read_csv(\"data Top_user.csv\")\n",
    "df"
   ]
  },
  {
   "cell_type": "code",
   "execution_count": 15,
   "id": "e2a12636",
   "metadata": {},
   "outputs": [
    {
     "name": "stdout",
     "output_type": "stream",
     "text": [
      "table created successfully\n"
     ]
    }
   ],
   "source": [
    "mycursor.execute(\"USE phonepe\")\n",
    "sql=\"CREATE TABLE if not exists top_user1(State varchar(255),Year int,Quater int,District int,RegisteredUsers int)\"\n",
    "mycursor.execute(sql)\n",
    "print('table created successfully')\n",
    "                "
   ]
  },
  {
   "cell_type": "code",
   "execution_count": 16,
   "id": "965222e9",
   "metadata": {},
   "outputs": [
    {
     "name": "stdout",
     "output_type": "stream",
     "text": [
      "inserted successfully\n"
     ]
    }
   ],
   "source": [
    "for index,row in df.iterrows():\n",
    "    quer='INSERT INTO phonepe.top_user1(State,Year,Quater,District,RegisteredUsers) values(%s,%s,%s,%s,%s)'\n",
    "    mycursor.execute(quer,(row.State,row.Year,row.Quater,row.District,row.RegisteredUsers))\n",
    "print('inserted successfully')\n",
    "phone_pe.commit()"
   ]
  },
  {
   "cell_type": "code",
   "execution_count": 1,
   "id": "24eaafc1",
   "metadata": {},
   "outputs": [
    {
     "data": {
      "text/plain": [
       "Unnamed: 0            0\n",
       "State                 0\n",
       "Year                  0\n",
       "Quater                0\n",
       "District              4\n",
       "Transaction_count     0\n",
       "Transaction_amount    0\n",
       "dtype: int64"
      ]
     },
     "execution_count": 1,
     "metadata": {},
     "output_type": "execute_result"
    }
   ],
   "source": [
    "import pandas as pd\n",
    "df=pd.read_csv('data Top_transaction1.csv')\n",
    "df.isnull().sum()"
   ]
  },
  {
   "cell_type": "code",
   "execution_count": 2,
   "id": "6571684e",
   "metadata": {},
   "outputs": [],
   "source": [
    "df.fillna(method='ffill',inplace=True)"
   ]
  },
  {
   "cell_type": "code",
   "execution_count": 3,
   "id": "21097f61",
   "metadata": {},
   "outputs": [
    {
     "data": {
      "text/plain": [
       "Unnamed: 0            0\n",
       "State                 0\n",
       "Year                  0\n",
       "Quater                0\n",
       "District              0\n",
       "Transaction_count     0\n",
       "Transaction_amount    0\n",
       "dtype: int64"
      ]
     },
     "execution_count": 3,
     "metadata": {},
     "output_type": "execute_result"
    }
   ],
   "source": [
    "df.isnull().sum()"
   ]
  },
  {
   "cell_type": "code",
   "execution_count": null,
   "id": "2b6c1852",
   "metadata": {},
   "outputs": [],
   "source": []
  }
 ],
 "metadata": {
  "kernelspec": {
   "display_name": "Python 3 (ipykernel)",
   "language": "python",
   "name": "python3"
  },
  "language_info": {
   "codemirror_mode": {
    "name": "ipython",
    "version": 3
   },
   "file_extension": ".py",
   "mimetype": "text/x-python",
   "name": "python",
   "nbconvert_exporter": "python",
   "pygments_lexer": "ipython3",
   "version": "3.9.13"
  }
 },
 "nbformat": 4,
 "nbformat_minor": 5
}
