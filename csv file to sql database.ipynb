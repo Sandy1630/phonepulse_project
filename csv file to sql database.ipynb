{
 "cells": [
  {
   "cell_type": "code",
   "execution_count": 2,
   "id": "70d4dadc",
   "metadata": {},
   "outputs": [],
   "source": [
    "import mysql.connector"
   ]
  },
  {
   "cell_type": "code",
   "execution_count": 3,
   "id": "01416432",
   "metadata": {},
   "outputs": [],
   "source": [
    "phone_pe=mysql.connector.connect(\n",
    "        host=\"127.0.0.1\",\n",
    "        user=\"root\",\n",
    "        password='Sandy@1630',\n",
    "        auth_plugin=\"mysql_native_password\")"
   ]
  },
  {
   "cell_type": "code",
   "execution_count": 1,
   "id": "c9115ee4",
   "metadata": {},
   "outputs": [],
   "source": [
    "import pandas as pd\n",
    "df=pd.read_csv(\"data aggregated transaction.csv\")\n",
    "#df"
   ]
  },
  {
   "cell_type": "code",
   "execution_count": 5,
   "id": "2a40578f",
   "metadata": {
    "scrolled": true
   },
   "outputs": [
    {
     "name": "stdout",
     "output_type": "stream",
     "text": [
      "Table created successfully\n"
     ]
    }
   ],
   "source": [
    "mycursor=phone_pe.cursor()\n",
    "mycursor.execute(\"USE phonepe\")\n",
    "sq1=\"CREATE TABLE ATransaction(MyIndex int NOT NULL AUTO_INCREMENT ,State varchar(50),Year int,Quater int,Transaction_type varchar(255),Transaction_count bigint,Transaction_amount bigint,PRIMARY KEY(MyIndex))\"\n",
    "mycursor.execute(sq1)\n",
    "print('Table created successfully')"
   ]
  },
  {
   "cell_type": "code",
   "execution_count": 7,
   "id": "876d02ef",
   "metadata": {},
   "outputs": [
    {
     "name": "stdout",
     "output_type": "stream",
     "text": [
      "dataframe inserted successfully\n"
     ]
    }
   ],
   "source": [
    "for index,row in df.iterrows():\n",
    "    quer=\"INSERT INTO phonepe.ATransaction(State,Year,Quater,Transaction_type,Transaction_count,Transaction_amount)values(%s,%s,%s,%s,%s,%s)\"\n",
    "    mycursor.execute(quer,(row.State,row.Year,row.Quater,row.transaction_type ,row.Transaction_count,row.transaction_amount))\n",
    "print(\"dataframe inserted successfully\")\n",
    "phone_pe.commit()\n",
    "\n",
    "    \n"
   ]
  },
  {
   "cell_type": "code",
   "execution_count": 4,
   "id": "aa005bde",
   "metadata": {},
   "outputs": [],
   "source": [
    "mycursor=phone_pe.cursor()"
   ]
  },
  {
   "cell_type": "code",
   "execution_count": 16,
   "id": "5c256303",
   "metadata": {},
   "outputs": [],
   "source": [
    "import pandas as pd\n",
    "df1=pd.read_csv('data aggregater_user1.csv')"
   ]
  },
  {
   "cell_type": "code",
   "execution_count": 7,
   "id": "edfabde6",
   "metadata": {},
   "outputs": [
    {
     "name": "stdout",
     "output_type": "stream",
     "text": [
      "TABLE CREATED SUCCESSFULLY\n"
     ]
    }
   ],
   "source": [
    "mycursor=phone_pe.cursor()\n",
    "mycursor.execute('USE phonepe')\n",
    "sq2='CREATE TABLE Ausers_1(MyIndex int NOT NULL AUTO_INCREMENT,State varchar(255),Year int,Quater int,Brand varchar(100),Count int,Percentage float,PRIMARY KEY (MyIndex))'\n",
    "mycursor.execute(sq2)\n",
    "print(\"TABLE CREATED SUCCESSFULLY\")"
   ]
  },
  {
   "cell_type": "code",
   "execution_count": 18,
   "id": "5a3af802",
   "metadata": {},
   "outputs": [
    {
     "name": "stdout",
     "output_type": "stream",
     "text": [
      "dataframe inserted successfully\n"
     ]
    }
   ],
   "source": [
    "for index,row in df1.iterrows():\n",
    "    query=\"INSERT INTO phonepe.Ausers_1(State,Year,Quater,Brand,Count,Percentage) VALUES(%s,%s,%s,%s,%s,%s)\"\n",
    "    mycursor.execute(query,(row.State,row.Year,row.Quater,row.Brand,row.Count_,row.Percentage_))\n",
    "print(\"dataframe inserted successfully\")\n",
    "phone_pe.commit()"
   ]
  },
  {
   "cell_type": "code",
   "execution_count": 7,
   "id": "eb067cce",
   "metadata": {},
   "outputs": [],
   "source": [
    "#df2=pd.read_csv('data map_transaction.csv')\n",
    "#df2"
   ]
  },
  {
   "cell_type": "code",
   "execution_count": 35,
   "id": "96b412e3",
   "metadata": {},
   "outputs": [
    {
     "name": "stdout",
     "output_type": "stream",
     "text": [
      "table created\n"
     ]
    }
   ],
   "source": [
    "sq3=\"CREATE TABLE Map_transaction(MyIndex int NOT NULL AUTO_INCREMENT,State varchar(100),Year int,Quater int,District varchar(255),Count bigint,Amount bigint,PRIMARY KEY(MyIndex))\"\n",
    "mycursor.execute(sq3)\n",
    "print(\"table created\")"
   ]
  },
  {
   "cell_type": "code",
   "execution_count": 36,
   "id": "c57065cb",
   "metadata": {},
   "outputs": [],
   "source": [
    "for index,row in df2.iterrows():\n",
    "    query=\"INSERT INTO phonepe.Map_transaction(State,Year,Quater,District,Count,Amount) values(%s,%s,%s,%s,%s,%s)\"\n",
    "    mycursor.execute(query,(row.State,row.Year,row.Quater,row.district,row.Count,row.Amount))"
   ]
  },
  {
   "cell_type": "code",
   "execution_count": 37,
   "id": "a6b9041f",
   "metadata": {},
   "outputs": [],
   "source": [
    "phone_pe.commit()"
   ]
  },
  {
   "cell_type": "code",
   "execution_count": null,
   "id": "ffdb3b7b",
   "metadata": {},
   "outputs": [],
   "source": []
  },
  {
   "cell_type": "code",
   "execution_count": 5,
   "id": "8eebf58d",
   "metadata": {},
   "outputs": [],
   "source": [
    "#df3=pd.read_csv(\"df_map_user.csv\")"
   ]
  },
  {
   "cell_type": "code",
   "execution_count": 12,
   "id": "540589af",
   "metadata": {},
   "outputs": [],
   "source": [
    "sq3=\"CREATE TABLE if not exists MAP_users(MyIndex INT NOT NULL AUTO_INCREMENT,State VARCHAR(100),Year INT, Quater INT, District VARCHAR(100),RegisteredUsers BIGINT , PRIMARY KEY (MyIndex))\"\n",
    "mycursor.execute(sq3)"
   ]
  },
  {
   "cell_type": "code",
   "execution_count": 8,
   "id": "f6df5b14",
   "metadata": {},
   "outputs": [],
   "source": [
    "for index,row in df3.iterrows():\n",
    "    query=\"INSERT INTO phonepe.MAP_users(State,Year,Quater,District,RegisteredUsers) values(%s,%s,%s,%s,%s)\"\n",
    "    mycursor.execute(query,(row.State,row.Year,row.Quater,row.District,row.RegisteredUsers))\n",
    "phone_pe.commit()"
   ]
  },
  {
   "cell_type": "code",
   "execution_count": null,
   "id": "e3911061",
   "metadata": {},
   "outputs": [],
   "source": []
  },
  {
   "cell_type": "code",
   "execution_count": 6,
   "id": "fd373cc1",
   "metadata": {},
   "outputs": [],
   "source": [
    "#import pandas as pd\n",
    "#df=pd.read_csv('data Top_transaction1.csv')\n",
    "#df"
   ]
  },
  {
   "cell_type": "code",
   "execution_count": 42,
   "id": "3280ae0c",
   "metadata": {},
   "outputs": [
    {
     "data": {
      "text/plain": [
       "Unnamed: 0            0\n",
       "State                 0\n",
       "Year                  0\n",
       "Quater                0\n",
       "District              4\n",
       "Transaction_count     0\n",
       "Transaction_amount    0\n",
       "dtype: int64"
      ]
     },
     "execution_count": 42,
     "metadata": {},
     "output_type": "execute_result"
    }
   ],
   "source": [
    "df.isnull().sum()"
   ]
  },
  {
   "cell_type": "code",
   "execution_count": 12,
   "id": "b057e665",
   "metadata": {},
   "outputs": [
    {
     "name": "stdout",
     "output_type": "stream",
     "text": [
      "table created successfully\n"
     ]
    }
   ],
   "source": [
    "mycursor.execute(\"USE phonepe\")\n",
    "mycursor.execute(\"CREATE TABLE Top_transaction1(MyIndex int NOT NULL AUTO_INCREMENT,State varchar(255),Year int,Quater int,District bigint,Transaction_count bigint,Transaction_amount bigint,PRIMARY KEY(MyIndex))\")\n",
    "print(\"table created successfully\")"
   ]
  },
  {
   "cell_type": "code",
   "execution_count": 8,
   "id": "f838d482",
   "metadata": {},
   "outputs": [
    {
     "name": "stdout",
     "output_type": "stream",
     "text": [
      "inserted successfully\n"
     ]
    }
   ],
   "source": [
    "for index,row in df.iterrows():\n",
    "    quer=\"INSERT INTO phonepe.Top_transaction1(State,Year,Quater,District,Transaction_count,Transaction_amount) values(%s,%s,%s,%s,%s,%s)\"\n",
    "    mycursor.execute(quer,(row.State,row.Year,row.Quater,row.District,row.Transaction_count,row.Transaction_amount))\n",
    "print(\"inserted successfully\")\n",
    "phone_pe.commit()"
   ]
  },
  {
   "cell_type": "code",
   "execution_count": 10,
   "id": "9ac670f8",
   "metadata": {},
   "outputs": [
    {
     "data": {
      "text/html": [
       "<div>\n",
       "<style scoped>\n",
       "    .dataframe tbody tr th:only-of-type {\n",
       "        vertical-align: middle;\n",
       "    }\n",
       "\n",
       "    .dataframe tbody tr th {\n",
       "        vertical-align: top;\n",
       "    }\n",
       "\n",
       "    .dataframe thead th {\n",
       "        text-align: right;\n",
       "    }\n",
       "</style>\n",
       "<table border=\"1\" class=\"dataframe\">\n",
       "  <thead>\n",
       "    <tr style=\"text-align: right;\">\n",
       "      <th></th>\n",
       "      <th>Unnamed: 0</th>\n",
       "      <th>State</th>\n",
       "      <th>Year</th>\n",
       "      <th>Quater</th>\n",
       "      <th>District</th>\n",
       "      <th>RegisteredUsers</th>\n",
       "    </tr>\n",
       "  </thead>\n",
       "  <tbody>\n",
       "    <tr>\n",
       "      <th>0</th>\n",
       "      <td>0</td>\n",
       "      <td>andaman-&amp;-nicobar-islands</td>\n",
       "      <td>2018</td>\n",
       "      <td>1</td>\n",
       "      <td>744103</td>\n",
       "      <td>1608</td>\n",
       "    </tr>\n",
       "    <tr>\n",
       "      <th>1</th>\n",
       "      <td>1</td>\n",
       "      <td>andaman-&amp;-nicobar-islands</td>\n",
       "      <td>2018</td>\n",
       "      <td>1</td>\n",
       "      <td>744101</td>\n",
       "      <td>1108</td>\n",
       "    </tr>\n",
       "    <tr>\n",
       "      <th>2</th>\n",
       "      <td>2</td>\n",
       "      <td>andaman-&amp;-nicobar-islands</td>\n",
       "      <td>2018</td>\n",
       "      <td>1</td>\n",
       "      <td>744105</td>\n",
       "      <td>1075</td>\n",
       "    </tr>\n",
       "    <tr>\n",
       "      <th>3</th>\n",
       "      <td>3</td>\n",
       "      <td>andaman-&amp;-nicobar-islands</td>\n",
       "      <td>2018</td>\n",
       "      <td>1</td>\n",
       "      <td>744102</td>\n",
       "      <td>1006</td>\n",
       "    </tr>\n",
       "    <tr>\n",
       "      <th>4</th>\n",
       "      <td>4</td>\n",
       "      <td>andaman-&amp;-nicobar-islands</td>\n",
       "      <td>2018</td>\n",
       "      <td>1</td>\n",
       "      <td>744104</td>\n",
       "      <td>272</td>\n",
       "    </tr>\n",
       "    <tr>\n",
       "      <th>...</th>\n",
       "      <td>...</td>\n",
       "      <td>...</td>\n",
       "      <td>...</td>\n",
       "      <td>...</td>\n",
       "      <td>...</td>\n",
       "      <td>...</td>\n",
       "    </tr>\n",
       "    <tr>\n",
       "      <th>28555</th>\n",
       "      <td>28555</td>\n",
       "      <td>west-bengal</td>\n",
       "      <td>2022</td>\n",
       "      <td>4</td>\n",
       "      <td>700015</td>\n",
       "      <td>108457</td>\n",
       "    </tr>\n",
       "    <tr>\n",
       "      <th>28556</th>\n",
       "      <td>28556</td>\n",
       "      <td>west-bengal</td>\n",
       "      <td>2022</td>\n",
       "      <td>4</td>\n",
       "      <td>742304</td>\n",
       "      <td>105471</td>\n",
       "    </tr>\n",
       "    <tr>\n",
       "      <th>28557</th>\n",
       "      <td>28557</td>\n",
       "      <td>west-bengal</td>\n",
       "      <td>2022</td>\n",
       "      <td>4</td>\n",
       "      <td>721101</td>\n",
       "      <td>105279</td>\n",
       "    </tr>\n",
       "    <tr>\n",
       "      <th>28558</th>\n",
       "      <td>28558</td>\n",
       "      <td>west-bengal</td>\n",
       "      <td>2022</td>\n",
       "      <td>4</td>\n",
       "      <td>700091</td>\n",
       "      <td>102363</td>\n",
       "    </tr>\n",
       "    <tr>\n",
       "      <th>28559</th>\n",
       "      <td>28559</td>\n",
       "      <td>west-bengal</td>\n",
       "      <td>2022</td>\n",
       "      <td>4</td>\n",
       "      <td>700150</td>\n",
       "      <td>101966</td>\n",
       "    </tr>\n",
       "  </tbody>\n",
       "</table>\n",
       "<p>28560 rows × 6 columns</p>\n",
       "</div>"
      ],
      "text/plain": [
       "       Unnamed: 0                      State  Year  Quater  District  \\\n",
       "0               0  andaman-&-nicobar-islands  2018       1    744103   \n",
       "1               1  andaman-&-nicobar-islands  2018       1    744101   \n",
       "2               2  andaman-&-nicobar-islands  2018       1    744105   \n",
       "3               3  andaman-&-nicobar-islands  2018       1    744102   \n",
       "4               4  andaman-&-nicobar-islands  2018       1    744104   \n",
       "...           ...                        ...   ...     ...       ...   \n",
       "28555       28555                west-bengal  2022       4    700015   \n",
       "28556       28556                west-bengal  2022       4    742304   \n",
       "28557       28557                west-bengal  2022       4    721101   \n",
       "28558       28558                west-bengal  2022       4    700091   \n",
       "28559       28559                west-bengal  2022       4    700150   \n",
       "\n",
       "       RegisteredUsers  \n",
       "0                 1608  \n",
       "1                 1108  \n",
       "2                 1075  \n",
       "3                 1006  \n",
       "4                  272  \n",
       "...                ...  \n",
       "28555           108457  \n",
       "28556           105471  \n",
       "28557           105279  \n",
       "28558           102363  \n",
       "28559           101966  \n",
       "\n",
       "[28560 rows x 6 columns]"
      ]
     },
     "execution_count": 10,
     "metadata": {},
     "output_type": "execute_result"
    }
   ],
   "source": [
    "df=pd.read_csv(\"data Top_user.csv\")\n",
    "df"
   ]
  },
  {
   "cell_type": "code",
   "execution_count": 15,
   "id": "e2a12636",
   "metadata": {},
   "outputs": [
    {
     "name": "stdout",
     "output_type": "stream",
     "text": [
      "table created successfully\n"
     ]
    }
   ],
   "source": [
    "mycursor.execute(\"USE phonepe\")\n",
    "sql=\"CREATE TABLE if not exists top_user1(State varchar(255),Year int,Quater int,District int,RegisteredUsers int)\"\n",
    "mycursor.execute(sql)\n",
    "print('table created successfully')\n",
    "                "
   ]
  },
  {
   "cell_type": "code",
   "execution_count": 16,
   "id": "965222e9",
   "metadata": {},
   "outputs": [
    {
     "name": "stdout",
     "output_type": "stream",
     "text": [
      "inserted successfully\n"
     ]
    }
   ],
   "source": [
    "for index,row in df.iterrows():\n",
    "    quer='INSERT INTO phonepe.top_user1(State,Year,Quater,District,RegisteredUsers) values(%s,%s,%s,%s,%s)'\n",
    "    mycursor.execute(quer,(row.State,row.Year,row.Quater,row.District,row.RegisteredUsers))\n",
    "print('inserted successfully')\n",
    "phone_pe.commit()"
   ]
  },
  {
   "cell_type": "code",
   "execution_count": 1,
   "id": "24eaafc1",
   "metadata": {},
   "outputs": [
    {
     "data": {
      "text/plain": [
       "Unnamed: 0            0\n",
       "State                 0\n",
       "Year                  0\n",
       "Quater                0\n",
       "District              4\n",
       "Transaction_count     0\n",
       "Transaction_amount    0\n",
       "dtype: int64"
      ]
     },
     "execution_count": 1,
     "metadata": {},
     "output_type": "execute_result"
    }
   ],
   "source": [
    "import pandas as pd\n",
    "df=pd.read_csv('data Top_transaction1.csv')\n",
    "df.isnull().sum()"
   ]
  },
  {
   "cell_type": "code",
   "execution_count": 2,
   "id": "6571684e",
   "metadata": {},
   "outputs": [],
   "source": [
    "df.fillna(method='ffill',inplace=True)"
   ]
  },
  {
   "cell_type": "code",
   "execution_count": 3,
   "id": "21097f61",
   "metadata": {},
   "outputs": [
    {
     "data": {
      "text/plain": [
       "Unnamed: 0            0\n",
       "State                 0\n",
       "Year                  0\n",
       "Quater                0\n",
       "District              0\n",
       "Transaction_count     0\n",
       "Transaction_amount    0\n",
       "dtype: int64"
      ]
     },
     "execution_count": 3,
     "metadata": {},
     "output_type": "execute_result"
    }
   ],
   "source": [
    "df.isnull().sum()"
   ]
  },
  {
   "cell_type": "code",
   "execution_count": null,
   "id": "2b6c1852",
   "metadata": {},
   "outputs": [],
   "source": []
  }
 ],
 "metadata": {
  "kernelspec": {
   "display_name": "Python 3 (ipykernel)",
   "language": "python",
   "name": "python3"
  },
  "language_info": {
   "codemirror_mode": {
    "name": "ipython",
    "version": 3
   },
   "file_extension": ".py",
   "mimetype": "text/x-python",
   "name": "python",
   "nbconvert_exporter": "python",
   "pygments_lexer": "ipython3",
   "version": "3.9.13"
  }
 },
 "nbformat": 4,
 "nbformat_minor": 5
}
